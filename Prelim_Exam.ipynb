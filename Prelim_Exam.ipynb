{
  "nbformat": 4,
  "nbformat_minor": 0,
  "metadata": {
    "colab": {
      "name": "Prelim Exam.ipynb",
      "provenance": [],
      "authorship_tag": "ABX9TyNNsr7M1Us7zNMe4+hHkEwI",
      "include_colab_link": true
    },
    "kernelspec": {
      "name": "python3",
      "display_name": "Python 3"
    },
    "language_info": {
      "name": "python"
    }
  },
  "cells": [
    {
      "cell_type": "markdown",
      "metadata": {
        "id": "view-in-github",
        "colab_type": "text"
      },
      "source": [
        "<a href=\"https://colab.research.google.com/github/Iannbrentte/OOP-58002/blob/main/Prelim_Exam.ipynb\" target=\"_parent\"><img src=\"https://colab.research.google.com/assets/colab-badge.svg\" alt=\"Open In Colab\"/></a>"
      ]
    },
    {
      "cell_type": "markdown",
      "source": [
        "Prelim Exam"
      ],
      "metadata": {
        "id": "n9Wr6EriPyQX"
      }
    },
    {
      "cell_type": "code",
      "source": [
        "print(\"Prince Iannbrentte M Buenaobra\")\n",
        "print(\"20212482\")\n",
        "print(\"19\")\n",
        "print(\"Computer Engineering\")\n",
        "\n"
      ],
      "metadata": {
        "colab": {
          "base_uri": "https://localhost:8080/"
        },
        "id": "P0MfmFilQ9FU",
        "outputId": "83f009e8-1481-4693-a46f-a4dc2df5efda"
      },
      "execution_count": 30,
      "outputs": [
        {
          "output_type": "stream",
          "name": "stdout",
          "text": [
            "Prince Iannbrentte M Buenaobra\n",
            "20212482\n",
            "19\n",
            "Computer Engineering\n"
          ]
        }
      ]
    },
    {
      "cell_type": "markdown",
      "source": [
        ""
      ],
      "metadata": {
        "id": "zhBisIDTQ-d1"
      }
    },
    {
      "cell_type": "code",
      "source": [
        "n = input(\"Name: \")\n",
        "c = int(input(\"Student_No: \"))\n",
        "a = int(input(\" Age : \"))  \n",
        "x = input(\"School: \")\n",
        "d = input(\"Course: \")\n",
        "print(\"Name:\", n)\n",
        "print(\"Student:\", c)\n",
        "print(\"Age:\", a)\n",
        "print(\"School:\", x)\n",
        "print(\"Course:\", d)"
      ],
      "metadata": {
        "colab": {
          "base_uri": "https://localhost:8080/"
        },
        "id": "Q4YwqJ0ZPD3Z",
        "outputId": "e3b46bcd-c8e7-471a-9cb8-7b6edc6c30cc"
      },
      "execution_count": 37,
      "outputs": [
        {
          "output_type": "stream",
          "name": "stdout",
          "text": [
            "Name: Prince Iannbrentte Buenaobra\n",
            "Student_No: 20212482\n",
            " Age : 19\n",
            "School: Adamson University\n",
            "Course: Computer Engineering\n",
            "Name: Prince Iannbrentte Buenaobra\n",
            "Student: 20212482\n",
            "Age: 19\n",
            "School: Adamson University\n",
            "Course: Computer Engineering\n"
          ]
        }
      ]
    }
  ]
}