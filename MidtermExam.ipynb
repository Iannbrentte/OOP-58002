{
  "nbformat": 4,
  "nbformat_minor": 0,
  "metadata": {
    "colab": {
      "name": "MidtermExam.ipynb",
      "provenance": [],
      "authorship_tag": "ABX9TyO8zH1lJpSGsDys1SqMsHvs",
      "include_colab_link": true
    },
    "kernelspec": {
      "name": "python3",
      "display_name": "Python 3"
    },
    "language_info": {
      "name": "python"
    }
  },
  "cells": [
    {
      "cell_type": "markdown",
      "metadata": {
        "id": "view-in-github",
        "colab_type": "text"
      },
      "source": [
        "<a href=\"https://colab.research.google.com/github/Iannbrentte/OOP-58002/blob/main/MidtermExam.ipynb\" target=\"_parent\"><img src=\"https://colab.research.google.com/assets/colab-badge.svg\" alt=\"Open In Colab\"/></a>"
      ]
    },
    {
      "cell_type": "code",
      "execution_count": 17,
      "metadata": {
        "colab": {
          "base_uri": "https://localhost:8080/"
        },
        "id": "E71ArazfWjGk",
        "outputId": "1a8242cd-ed67-4f5f-9ac1-c90e51e40ef2"
      },
      "outputs": [
        {
          "output_type": "stream",
          "name": "stdout",
          "text": [
            "Enter the temperature in Celsius: 14\n",
            "-259.15 Kelvin_To_Celius\n",
            "-10.0 Fahrenheit_To_Celius\n",
            "57.2 Celsius_To_Fahrenheit\n",
            "287.15 Celsius_To_Kelvin\n"
          ]
        }
      ],
      "source": [
        "def main():\n",
        "\n",
        "  \n",
        "\n",
        " class TemperatureConversion:\n",
        "\n",
        "  def __init__(self, temp=1):\n",
        "\n",
        "   self._temp = temp\n",
        "\n",
        " class CelsiusToFahrenheit(TemperatureConversion):\n",
        "\n",
        "  def conversion(self):\n",
        "\n",
        "   return (self._temp * 9) / 5 + 32\n",
        "\n",
        " class TemperatureConversion:\n",
        "\n",
        "  def __init__(self, temp=1):\n",
        "\n",
        "   self._temp = temp\n",
        "\n",
        " class FahrenheitToCelius(TemperatureConversion):\n",
        "\n",
        "  def conversion(self):\n",
        "\n",
        "   return (self._temp * 9) / 5 + 32\n",
        "\n",
        " class KelvinToCeluis(TemperatureConversion):\n",
        "\n",
        "  def conversion(self):\n",
        "\n",
        "   return self._temp - 273.15\n",
        "  \n",
        " class FahrenheitToCelius(TemperatureConversion):\n",
        "\n",
        "  def conversion(self):\n",
        "\n",
        "   return (self._temp -32 ) * 5 / 9\n",
        " \n",
        " class CelsiusToFahrenheit(TemperatureConversion):\n",
        "\n",
        "  def conversion(self):\n",
        "\n",
        "   return (self._temp * 9) / 5 + 32\n",
        "\n",
        " class CelsiusToKelvin(TemperatureConversion):\n",
        "\n",
        "  def conversion(self):\n",
        "\n",
        "   return self._temp + 273.15\n",
        "\n",
        "\n",
        " tempInCelsius = float(input(\"Enter the temperature in Celsius: \"))\n",
        "\n",
        " convert = KelvinToCeluis(tempInCelsius)\n",
        "\n",
        " print(str(convert.conversion()) + \" Kelvin_To_Celius\")\n",
        "\n",
        " convert = FahrenheitToCelius(tempInCelsius)\n",
        "\n",
        " print(str(convert.conversion()) + \" Fahrenheit_To_Celius\")\n",
        "\n",
        " convert = CelsiusToFahrenheit(tempInCelsius)\n",
        "\n",
        " print(str(convert.conversion()) + \" Celsius_To_Fahrenheit\")\n",
        "  \n",
        " convert = CelsiusToKelvin(tempInCelsius)\n",
        "\n",
        " print(str(convert.conversion()) + \" Celsius_To_Kelvin\")\n",
        "\n",
        "\n",
        "\n",
        "\n",
        " \n",
        "main()"
      ]
    },
    {
      "cell_type": "code",
      "source": [
        ""
      ],
      "metadata": {
        "id": "0CJ5Iot0gBZo"
      },
      "execution_count": null,
      "outputs": []
    }
  ]
}