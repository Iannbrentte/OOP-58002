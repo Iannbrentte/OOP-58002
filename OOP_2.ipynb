{
  "nbformat": 4,
  "nbformat_minor": 0,
  "metadata": {
    "colab": {
      "name": "OOP-2.ipynb",
      "provenance": [],
      "authorship_tag": "ABX9TyPOcBseOcsdhznEUsFEW7Sy",
      "include_colab_link": true
    },
    "kernelspec": {
      "name": "python3",
      "display_name": "Python 3"
    },
    "language_info": {
      "name": "python"
    }
  },
  "cells": [
    {
      "cell_type": "markdown",
      "metadata": {
        "id": "view-in-github",
        "colab_type": "text"
      },
      "source": [
        "<a href=\"https://colab.research.google.com/github/Iannbrentte/OOP-58002/blob/main/OOP_2.ipynb\" target=\"_parent\"><img src=\"https://colab.research.google.com/assets/colab-badge.svg\" alt=\"Open In Colab\"/></a>"
      ]
    },
    {
      "cell_type": "markdown",
      "source": [
        "Inheritance\n"
      ],
      "metadata": {
        "id": "ICvnuRpWfOkA"
      }
    },
    {
      "cell_type": "code",
      "execution_count": null,
      "metadata": {
        "id": "kfZEUDXme7nS"
      },
      "outputs": [],
      "source": [
        "class Person:\n",
        " def  __init__(self,firstname,surname):\n",
        "  self.firstname = firstname\n",
        "  self.surname = surname\n",
        "\n",
        "  def printname(self):\n",
        "    print(self.firstname,self.surname)\n",
        "\n",
        "  person = Person(\"Maam\",\"Sayo\")\n",
        "  person.printname()\n",
        "\n",
        "  class Student(Person):\n",
        "    pass\n",
        "     \n",
        "person = Student(\"Asley\",\"Goce\")\n",
        "person.printname()\n",
        "\n",
        "\n",
        "\n"
      ]
    },
    {
      "cell_type": "markdown",
      "source": [
        "Polymorphism"
      ],
      "metadata": {
        "id": "360SH1jHipzJ"
      }
    },
    {
      "cell_type": "code",
      "source": [
        "class RegularPolygon:\n",
        "  def _init_(self,side):\n",
        "    self.side = side \n",
        "  class Square(RegularPolygon):\n",
        "    def area(self):\n",
        "      return self.side * self.side\n",
        "    class EquilateralTriangle(RegularPolygon):\n",
        "      def area(self):\n",
        "        return self.side * self.side * 0.433\n",
        "    \n",
        "  x= Square(4)\n",
        "  y= EquilateralTriangle(3)\n",
        "\n",
        "  print(x.area())\n",
        "  print(y.area())"
      ],
      "metadata": {
        "id": "FpSlaPWLkVOA"
      },
      "execution_count": null,
      "outputs": []
    },
    {
      "cell_type": "markdown",
      "source": [
        "Application 1\n"
      ],
      "metadata": {
        "id": "HSEMhHhUmyNR"
      }
    },
    {
      "cell_type": "code",
      "source": [
        "class Student:\n",
        "    student_grade = '3'\n",
        "    student_name = 'Jacqueline Barnett'\n",
        "    def display():\n",
        "        print(f'Student id: {Student.student_grade}\\nStudent Name: {Student.student_name}')\n",
        "print(\"Grade of student 1:\")\n",
        "Student.display()\n",
        "\n",
        "class Student:\n",
        "    student_grade = '5'\n",
        "    student_name = 'Brody Kim'\n",
        "    def display():\n",
        "        print(f'Student id: {Student.student_grade}\\nStudent Name: {Student.student_name}')\n",
        "print(\"Grade of student 2:\")\n",
        "Student.display()\n",
        "\n",
        "\n",
        "class Student:\n",
        "    student_grade = '2'\n",
        "    student_name = 'Johnson Rock'\n",
        "    def display():\n",
        "        print(f'Student id: {Student.student_grade}\\nStudent Name: {Student.student_name}')\n",
        "print(\"Grade of student 3:\")\n",
        "Student.display()\n",
        "\n"
      ],
      "metadata": {
        "id": "-xNPp3cTm12i",
        "outputId": "f63e6125-e676-4547-851b-e6c7a8c1062a",
        "colab": {
          "base_uri": "https://localhost:8080/"
        }
      },
      "execution_count": 12,
      "outputs": [
        {
          "output_type": "stream",
          "name": "stdout",
          "text": [
            "Grade of student 1:\n",
            "Student id: 3\n",
            "Student Name: Jacqueline Barnett\n",
            "Grade of student 2:\n",
            "Student id: 5\n",
            "Student Name: Brody Kim\n",
            "Grade of student 3:\n",
            "Student id: 2\n",
            "Student Name: Johnson Rock\n"
          ]
        }
      ]
    }
  ]
}