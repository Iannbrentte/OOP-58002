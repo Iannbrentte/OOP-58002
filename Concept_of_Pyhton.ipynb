{
  "nbformat": 4,
  "nbformat_minor": 0,
  "metadata": {
    "colab": {
      "name": "Concept of Pyhton.ipynb",
      "provenance": [],
      "authorship_tag": "ABX9TyONavoxBRUhDOPTPzO+FTgg",
      "include_colab_link": true
    },
    "kernelspec": {
      "name": "python3",
      "display_name": "Python 3"
    },
    "language_info": {
      "name": "python"
    }
  },
  "cells": [
    {
      "cell_type": "markdown",
      "metadata": {
        "id": "view-in-github",
        "colab_type": "text"
      },
      "source": [
        "<a href=\"https://colab.research.google.com/github/Iannbrentte/OOP-58002/blob/main/Concept_of_Pyhton.ipynb\" target=\"_parent\"><img src=\"https://colab.research.google.com/assets/colab-badge.svg\" alt=\"Open In Colab\"/></a>"
      ]
    },
    {
      "cell_type": "markdown",
      "source": [
        "Inheritance"
      ],
      "metadata": {
        "id": "lqsWKtOiWB9p"
      }
    },
    {
      "cell_type": "code",
      "execution_count": 1,
      "metadata": {
        "colab": {
          "base_uri": "https://localhost:8080/"
        },
        "id": "BTgK1j3TWBPH",
        "outputId": "8da174a7-58af-4266-e615-74762332e39d"
      },
      "outputs": [
        {
          "output_type": "stream",
          "name": "stdout",
          "text": [
            "The BMW 7-series car gives the mileage of 39.53km/l\n",
            "The Audi A8 L car gives the mileage of 14km/l\n",
            "This is the description method of class Audi.\n"
          ]
        }
      ],
      "source": [
        "class Car:          #parent class\n",
        "\n",
        "    def __init__(self, name, mileage):\n",
        "        self.name = name \n",
        "        self.mileage = mileage \n",
        "\n",
        "    def description(self):                \n",
        "        return f\"The {self.name} car gives the mileage of {self.mileage}km/l\"\n",
        "\n",
        "class BMW(Car):     #child class\n",
        "    pass\n",
        "\n",
        "class Audi(Car):     #child class\n",
        "    def audi_desc(self):\n",
        "        return \"This is the description method of class Audi.\"\n",
        "\n",
        "obj1 = BMW(\"BMW 7-series\",39.53)\n",
        "print(obj1.description())\n",
        "\n",
        "obj2 = Audi(\"Audi A8 L\",14)\n",
        "print(obj2.description())\n",
        "print(obj2.audi_desc())"
      ]
    },
    {
      "cell_type": "markdown",
      "source": [
        "Encapsulation"
      ],
      "metadata": {
        "id": "DB3-dIkeWUWn"
      }
    },
    {
      "cell_type": "code",
      "source": [
        "\n",
        "def __init__(self, name, mileage):\n",
        "        self._name = name                #protected variable\n",
        "        self.mileage = mileage \n",
        "\n",
        "def description(self):                \n",
        "      \n",
        "  return f\"The {self._name} car gives the mileage of {self.mileage}km/l\"\n",
        "\n",
        "obj =Car (\"BMW 7-series\",39.53)\n",
        "\n",
        "#accessing protected variable via class method \n",
        "print(obj.description())\n",
        "\n",
        "#accessing protected variable directly from outside\n",
        "print(obj.name)\n",
        "print(obj.mileage)"
      ],
      "metadata": {
        "colab": {
          "base_uri": "https://localhost:8080/"
        },
        "id": "Pgt-ZiYhWW5P",
        "outputId": "b938d4ee-397d-4b34-f109-412d496cef5e"
      },
      "execution_count": 7,
      "outputs": [
        {
          "output_type": "stream",
          "name": "stdout",
          "text": [
            "The BMW 7-series car gives the mileage of 39.53km/l\n",
            "BMW 7-series\n",
            "39.53\n"
          ]
        }
      ]
    }
  ]
}