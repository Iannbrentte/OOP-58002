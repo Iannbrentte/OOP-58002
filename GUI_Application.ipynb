{
  "nbformat": 4,
  "nbformat_minor": 0,
  "metadata": {
    "colab": {
      "name": "GUI Application.ipynb",
      "provenance": [],
      "authorship_tag": "ABX9TyMj/CIUnv+1sqOhp8vU1qZj",
      "include_colab_link": true
    },
    "kernelspec": {
      "name": "python3",
      "display_name": "Python 3"
    },
    "language_info": {
      "name": "python"
    }
  },
  "cells": [
    {
      "cell_type": "markdown",
      "metadata": {
        "id": "view-in-github",
        "colab_type": "text"
      },
      "source": [
        "<a href=\"https://colab.research.google.com/github/Iannbrentte/OOP-58002/blob/main/GUI_Application.ipynb\" target=\"_parent\"><img src=\"https://colab.research.google.com/assets/colab-badge.svg\" alt=\"Open In Colab\"/></a>"
      ]
    },
    {
      "cell_type": "markdown",
      "source": [
        "Create a Phyton Program that displays the grade of a student in prelim, midterm, and final term\n"
      ],
      "metadata": {
        "id": "jOA-qg0WciOv"
      }
    },
    {
      "cell_type": "code",
      "source": [
        "#@title Student Grade in OOP\n",
        "\n",
        "Student_Name = 'Maria Rizette H. Sayo' #@param {type:\"string\"}\n",
        "prelim_grade = 90 #@param {type:\"number\"}\n",
        "midterm_grade = 85 #@param {type:\"number\"}\n",
        "final_grade = 90 #@param {type:\"number\"}\n",
        "semestral = (prelim_grade*0.30+midterm_grade*0.30+final_grade*0.40)\n",
        "\n",
        "print(\"The semestral grade of the student is\"+str(round((semestral),2)))\n",
        "\n",
        "Gender = \"Female\" #@param [\"Male\" , \"Female\"]\n",
        "Birthdate = \"2022-04-21\" #@param {type:\"date\"}\n",
        "\n",
        "print(Gender)\n",
        "print(\"My Birthdate is\" +\".\" + Birthdate)"
      ],
      "metadata": {
        "colab": {
          "base_uri": "https://localhost:8080/"
        },
        "id": "vXanCK6cctTo",
        "outputId": "12838e79-c773-40ae-d506-198970965e0f"
      },
      "execution_count": 5,
      "outputs": [
        {
          "output_type": "stream",
          "name": "stdout",
          "text": [
            "The semestral grade of the student is88.5\n",
            "Female\n",
            "My Birthdate is.2022-04-21\n"
          ]
        }
      ]
    }
  ]
}